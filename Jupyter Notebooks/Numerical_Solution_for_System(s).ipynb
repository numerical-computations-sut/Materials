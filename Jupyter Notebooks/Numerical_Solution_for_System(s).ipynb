{
  "cells": [
    {
      "cell_type": "markdown",
      "metadata": {
        "id": "6x2O1hP0CW0N"
      },
      "source": [
        "<br>\n",
        "<font>\n",
        "<div dir=ltr align=center>\n",
        "<font color=white size=15>\n",
        "    Numerical Computations <br>\n",
        "<font color=Red size=6>\n",
        "    Numerical Solution for System(s)<br>\n",
        "<font color=white size=3>\n",
        "    Hamid Sarbazi-Azad & Samira Hossein Ghorban <br>\n",
        "    Department of Computer Engineering <br>\n",
        "    Sharif University of Technology (SUT) <br>\n",
        "    Tehran, Iran <br>\n",
        "\n",
        "<font color=696880 size=2>\n",
        "Amirreza Aranpour\n",
        "<!-- <img src='http://www-scf.usc.edu/~ghasemig/images/sharif.png' alt=\"SUT logo\" width=300 height=300 align=center class=\"saturate\" > -->"
      ]
    },
    {
      "cell_type": "markdown",
      "metadata": {
        "id": "ZX5QHnNmN6Xk"
      },
      "source": [
        "# 1- Solutions of Equations in One variables"
      ]
    },
    {
      "cell_type": "markdown",
      "metadata": {
        "id": "Zb41OecDQoTz"
      },
      "source": [
        "When dealing with mathematical problems, it's often necessary to find values for a single variable that satisfy a particular equation. These equations, which involve only one variable, can be written in the form $f(x) = 0$, where $x$ is the variable we want to solve for, and $f(x)$ is some mathematical expression or function that depends on $x$.\n",
        "\n",
        "The process of finding these values of $x$ that make the equation true is what we refer to as \"solving equations in one variable\". These equations and their solutions are fundamental in various fields of mathematics, science, and engineering.\n",
        "\n",
        "To find these solutions, we often employ numerical methods when analytical solutions are not readily available or are too complex to compute by hand. Numerical methods provide us with approximate solutions that are sufficiently accurate for practical purposes. One such method is the bisection method, which iteratively narrows down an interval containing the root of the equation until a satisfactory approximation is achieved.\n",
        "\n",
        "In summary, solving equations in one variable involves finding values of $x$ that satisfy an equation of the form $f(x) = 0$, and numerical methods like the bisection method are used when analytical solutions are challenging to obtain. These methods are essential tools in problem-solving across a wide range of disciplines."
      ]
    },
    {
      "cell_type": "markdown",
      "metadata": {
        "id": "E6o4kLX5HiXC"
      },
      "source": [
        "## 1.1- Fixed-Point Iteration"
      ]
    },
    {
      "cell_type": "markdown",
      "metadata": {
        "id": "mkm77mKxT5Fn"
      },
      "source": [
        "Fixed-Point Iteration is a numerical method used to find solutions to equations of the form $f(x) = 0$. It works by reformulating the problem into the form $x = g(x)$, where $g(x)$ is a function.\n",
        "\n",
        "The method begins with an initial guess, denoted as $x_0$. It then iteratively updates the guess using the formula $x_{n+1} = g(x_n)$ until a satisfactory solution is reached. Convergence is achieved when the difference between consecutive approximations, $|x_{n+1} - x_n|$, becomes smaller than a predefined tolerance or when a maximum number of iterations is reached.\n",
        "\n",
        "The choice of the function $g(x)$ is crucial, as convergence depends on it. While Fixed-Point Iteration may not always guarantee convergence or may converge slowly, it remains a valuable numerical tool for solving equations when other methods are not applicable."
      ]
    },
    {
      "cell_type": "markdown",
      "source": [
        "**Example:**\n",
        "\n",
        "Let's consider an example where we want to find a root of the equation $f(x) = x^2 - x - 5 = 0$ using the Fixed-Point Iteration method.\n",
        "\n",
        "Reformulating the Equation:\n",
        "\n",
        "To apply Fixed-Point Iteration, we need to rewrite the equation in the form $x = g(x)$. In this case, we can rearrange the equation as follows:\n",
        "\n",
        "\\begin{equation}\n",
        "    x = \\sqrt{5 + x}\n",
        "\\end{equation}\n",
        "\n",
        "Now, we have our function $g(x)$:\n",
        "\n",
        "\\begin{equation}\n",
        "    g(x) = \\sqrt{5 + x}\n",
        "\\end{equation}\n"
      ],
      "metadata": {
        "id": "NLOyCGgl9vJS"
      }
    },
    {
      "cell_type": "code",
      "execution_count": null,
      "metadata": {
        "colab": {
          "base_uri": "https://localhost:8080/"
        },
        "id": "GWnh20VboBJG",
        "outputId": "e21abff3-3261-4c2f-dd94-dd9d79d6fa97"
      },
      "outputs": [
        {
          "name": "stdout",
          "output_type": "stream",
          "text": [
            "Approximate Root: 2.79128778168858\n",
            "Number of iterations: 9\n"
          ]
        }
      ],
      "source": [
        "def fixed_point_iteration(g, initial_guess, tolerance, max_iterations):\n",
        "    x = initial_guess\n",
        "    iteration = 0\n",
        "\n",
        "    while iteration < max_iterations:\n",
        "        x_new = g(x)\n",
        "        if abs(x_new - x) < tolerance:\n",
        "            return x_new\n",
        "        x = x_new\n",
        "        iteration += 1\n",
        "\n",
        "    return None  # If the method doesn't converge within max_iterations\n",
        "\n",
        "# Define the function g(x)\n",
        "def g(x):\n",
        "    return (5 + x)**0.5\n",
        "\n",
        "# Set initial guess, tolerance, and maximum number of iterations\n",
        "initial_guess = 1.0\n",
        "tolerance = 1e-6\n",
        "max_iterations = 100\n",
        "\n",
        "# Find the approximate root using Fixed-Point Iteration\n",
        "approx_root = fixed_point_iteration(g, initial_guess, tolerance, max_iterations)\n",
        "\n",
        "if approx_root is not None:\n",
        "    print(f\"Approximate Root: {approx_root}\")\n",
        "    print(f\"Number of iterations: {num_iterations}\")\n",
        "else:\n",
        "    print(\"Fixed-Point Iteration did not converge within the specified iterations.\")\n"
      ]
    },
    {
      "cell_type": "markdown",
      "metadata": {
        "id": "IJrxrV3rIHYR"
      },
      "source": [
        "# 2- Gradient Descent"
      ]
    },
    {
      "cell_type": "markdown",
      "metadata": {
        "id": "S7ZDigHemVQR"
      },
      "source": [
        "**Gradient Descent** is an optimization algorithm used to minimize a cost function. Here are the key components:\n",
        "\n",
        "1. **Objective Function**: Start with a cost function $J(\\theta_0, \\theta_1)$ that depends on model parameters $\\theta_0$ and $\\theta_1$.\n",
        "\n",
        "2. **Gradient Calculation**: Calculate the gradient (or derivative) of the cost function with respect to the parameters:\n",
        "\n",
        "\\begin{align*}\n",
        "    \\nabla J(\\theta_0, \\theta_1) = \\left(\\frac{\\partial J}{\\partial \\theta_0}, \\frac{\\partial J}{\\partial \\theta_1}\\right)\n",
        "\\end{align*}\n",
        "\n",
        "   The gradient indicates the steepest ascent in the cost function.\n",
        "\n",
        "3. **Update Rule**: Adjust the parameters $\\theta_0$ and $\\theta_1$ in the opposite direction of the gradient by a factor of the learning rate $\\alpha$:\n",
        "\n",
        "\\begin{align*}\n",
        "   \\theta_0 &= \\theta_0 - \\alpha \\frac{\\partial J}{\\partial \\theta_0} \\\\\n",
        "   \\theta_1 &= \\theta_1 - \\alpha \\frac{\\partial J}{\\partial \\theta_1}\n",
        "\\end{align*}\n",
        "\n",
        "   The learning rate $\\alpha$ controls the step size of each iteration.\n",
        "\n",
        "4. **Iterate**: Repeat the gradient calculation and parameter updates for a specified number of iterations or until convergence criteria are met."
      ]
    },
    {
      "cell_type": "markdown",
      "source": [
        "**Example:**\n",
        "\n",
        "Suppose you are fitting a simple linear regression model with parameters $\\theta_0$ (intercept) and $\\theta_1$ (slope). The cost function in this case is the Mean Squared Error (MSE):\n",
        "\n",
        "\\begin{align*}\n",
        "J(\\theta_0, \\theta_1) = \\frac{1}{2m} \\sum_{i=1}^{m} \\left(h_{\\theta}(x^{(i)}) - y^{(i)}\\right)^2\n",
        "\\end{align*}\n",
        "\n",
        "Where:\n",
        "- $J(\\theta_0, \\theta_1)$ is the cost function.\n",
        "- $h_{\\theta}(x^{(i)})$ is the model's prediction for the $i$-th data point.\n",
        "- $y^{(i)}$ is the actual target value for the $i$-th data point.\n",
        "- $m$ is the number of data points.\n",
        "\n",
        "The Gradient Descent algorithm is used to find the optimal values of $\\theta_0$ and $\\theta_1$ that minimize the cost function, making the model's predictions as close as possible to the actual target values."
      ],
      "metadata": {
        "id": "B9xJsBZB99rY"
      }
    },
    {
      "cell_type": "code",
      "execution_count": null,
      "metadata": {
        "colab": {
          "base_uri": "https://localhost:8080/"
        },
        "id": "_moqw09rqF1C",
        "outputId": "0347dbe7-287b-4003-d236-6c555cef6d46"
      },
      "outputs": [
        {
          "name": "stdout",
          "output_type": "stream",
          "text": [
            "Optimized parameters:\n",
            "Theta0: 4.558079912151289\n",
            "Theta1: 2.9682756294878994\n"
          ]
        }
      ],
      "source": [
        "import numpy as np\n",
        "\n",
        "# Generate some sample data\n",
        "np.random.seed(0)\n",
        "X = 2 * np.random.rand(100, 1)\n",
        "y = 4 + 3 * X + np.random.rand(100, 1)\n",
        "\n",
        "# Define the number of iterations and the learning rate\n",
        "num_iterations = 1000\n",
        "learning_rate = 0.1\n",
        "\n",
        "# Initialize model parameters (slope and intercept)\n",
        "theta0 = np.random.rand(1)\n",
        "theta1 = np.random.rand(1)\n",
        "\n",
        "# Perform Gradient Descent\n",
        "for iteration in range(num_iterations):\n",
        "    predictions = theta0 + theta1 * X\n",
        "    errors = predictions - y\n",
        "\n",
        "    # Calculate gradients\n",
        "    gradient0 = (1/len(X)) * np.sum(errors)\n",
        "    gradient1 = (1/len(X)) * np.sum(errors * X)\n",
        "\n",
        "    # Update parameters\n",
        "    theta0 = theta0 - learning_rate * gradient0\n",
        "    theta1 = theta1 - learning_rate * gradient1\n",
        "\n",
        "# The optimized parameters represent the best-fit line\n",
        "print(\"Optimized parameters:\")\n",
        "print(\"Theta0:\", theta0[0])\n",
        "print(\"Theta1:\", theta1[0])"
      ]
    },
    {
      "cell_type": "code",
      "execution_count": null,
      "metadata": {
        "colab": {
          "base_uri": "https://localhost:8080/",
          "height": 472
        },
        "id": "61YLf8PICWdC",
        "outputId": "0c633be4-0767-4601-efb9-664507b68587"
      },
      "outputs": [
        {
          "data": {
            "image/png": "[encoded data removed]",
            "text/plain": [
              "<Figure size 640x480 with 1 Axes>"
            ]
          },
          "metadata": {},
          "output_type": "display_data"
        }
      ],
      "source": [
        "import numpy as np\n",
        "import matplotlib.pyplot as plt\n",
        "\n",
        "def function_to_optimize(x):\n",
        "    # Define the function you want to optimize\n",
        "    return x**2 + 5*x + 10\n",
        "\n",
        "def gradient_descent(initial_x, learning_rate, num_iterations):\n",
        "    x_values = [initial_x]\n",
        "    for _ in range(num_iterations):\n",
        "        current_x = x_values[-1]\n",
        "        gradient = 2 * current_x + 5  # Derivative of the function_to_optimize\n",
        "        new_x = current_x - learning_rate * gradient\n",
        "        x_values.append(new_x)\n",
        "\n",
        "    return x_values\n",
        "\n",
        "# Parameters for gradient descent\n",
        "initial_x = -10\n",
        "learning_rate = 0.1\n",
        "num_iterations = 20\n",
        "\n",
        "# Run gradient descent\n",
        "x_values = gradient_descent(initial_x, learning_rate, num_iterations)\n",
        "\n",
        "# Plotting the function and the gradient descent path\n",
        "x_range = np.linspace(-12, 2, 100)\n",
        "y_values = function_to_optimize(x_range)\n",
        "\n",
        "plt.plot(x_range, y_values, label='Function to Optimize')\n",
        "plt.scatter(x_values, [function_to_optimize(x) for x in x_values], color='red', label='Gradient Descent Path')\n",
        "plt.title('Gradient Descent Visualization')\n",
        "plt.xlabel('X')\n",
        "plt.ylabel('Y')\n",
        "plt.legend()\n",
        "plt.show()"
      ]
    },
    {
      "cell_type": "markdown",
      "metadata": {
        "id": "-33T56VYgF-E"
      },
      "source": [
        "\n",
        "In this example, we have a quadratic function $\\text{function_to_optimize}(x) = x^2 + 5x + 10 $, and we use gradient descent to find the minimum of this function. The visualization includes the function plot and the path taken by the gradient descent algorithm.\n"
      ]
    },
    {
      "cell_type": "markdown",
      "metadata": {
        "id": "lJQ_blS20VRr"
      },
      "source": [
        "## 2.1- Learning Rate\n"
      ]
    },
    {
      "cell_type": "markdown",
      "metadata": {
        "id": "s3_JHiCWeQcf"
      },
      "source": [
        "The learning rate is a crucial hyperparameter in gradient descent algorithms. It controls the step size during optimization. Choosing an appropriate learning rate is essential for successful convergence. A too-large learning rate may lead to instability, while a too-small one may result in very slow convergence. Finding the right balance is vital for efficient training."
      ]
    },
    {
      "cell_type": "code",
      "execution_count": null,
      "metadata": {
        "colab": {
          "base_uri": "https://localhost:8080/",
          "height": 564
        },
        "id": "CFeeFN-b1M1i",
        "outputId": "a2ba1689-b96a-4ba7-c86a-d4ab0dac2cde"
      },
      "outputs": [
        {
          "data": {
            "image/png": "[encoded data removed]",
            "text/plain": [
              "<Figure size 1000x600 with 1 Axes>"
            ]
          },
          "metadata": {},
          "output_type": "display_data"
        }
      ],
      "source": [
        "import numpy as np\n",
        "import matplotlib.pyplot as plt\n",
        "\n",
        "# Define a sample cost function (for illustration)\n",
        "def cost_function(x):\n",
        "    return x**2\n",
        "\n",
        "# Gradient Descent function for illustration (you'd replace this with your actual model training)\n",
        "def gradient_descent(learning_rate, num_iterations):\n",
        "    history = []\n",
        "    x = 4.0  # Initial guess\n",
        "    for _ in range(num_iterations):\n",
        "        gradient = 2 * x  # Gradient of the cost function (d(cost_function)/dx)\n",
        "        x -= learning_rate * gradient  # Update x using the learning rate\n",
        "        history.append(x)\n",
        "    return history\n",
        "\n",
        "# Learning rates to test\n",
        "learning_rates = [0.1, 0.5, 0.9]\n",
        "\n",
        "# Number of iterations\n",
        "num_iterations = 20\n",
        "\n",
        "# Create a chart to visualize the effect of learning rates on convergence\n",
        "plt.figure(figsize=(10, 6))\n",
        "for learning_rate in learning_rates:\n",
        "    history = gradient_descent(learning_rate, num_iterations)\n",
        "    plt.plot(history, label=f'Learning Rate {learning_rate}')\n",
        "\n",
        "plt.title('Effect of Learning Rate on Gradient Descent Convergence')\n",
        "plt.xlabel('Iterations')\n",
        "plt.ylabel('Parameter Value')\n",
        "plt.legend()\n",
        "plt.grid(True)\n",
        "plt.show()"
      ]
    },
    {
      "cell_type": "markdown",
      "metadata": {
        "id": "R2Q_VlEZ1ynt"
      },
      "source": [
        "# 3- Newton-Raphson"
      ]
    },
    {
      "cell_type": "markdown",
      "metadata": {
        "id": "668-RYbH1tTE"
      },
      "source": [
        "The Newton-Raphson method is an iterative approach for finding the root (solution) of an equation $f(x) = 0$. It uses the following formula to update an initial guess $x_n$ to get a more accurate approximation $x_{n+1}$ of the root:\n",
        "\n",
        "\\begin{align*}\n",
        "x_{n+1} = x_n - \\frac{f(x_n)}{f'(x_n)}\n",
        "\\end{align*}\n",
        "\n",
        "Where:\n",
        "- $x_n$ is the current approximation of the root.\n",
        "- $x_{n+1}$ is the next approximation, hopefully closer to the actual root.\n",
        "- $f(x_n)$ is the function value at $x_n$.\n",
        "- $f'(x_n)$ is the derivative of the function at $x_n$.\n",
        "\n",
        "**Example:**\n",
        "\n",
        "Let's apply the Newton-Raphson method to find an approximation of the square root of a number, say 5. We want to find a root of the equation $f(x) = x^2 - 5 = 0$. The derivative of $f(x)$ is $f'(x) = 2x$.\n",
        "\n",
        "1. Choose an initial guess, $x_0$. Let's start with $x_0 = 2$.\n",
        "\n",
        "2. Apply the Newton-Raphson formula:\n",
        "\n",
        "\\begin{align*}\n",
        "   x_1 &= x_0 - \\frac{f(x_0)}{f'(x_0)}\\\\\n",
        "   x_1 &= 2.0 - \\frac{2.0^2 - 5}{2 \\cdot 2.0} = 2.0 - \\frac{4.0-5}{4.0} = 2.0 + 0.25 =2.25\n",
        "\\end{align*}\n",
        "\n",
        "3. Repeat the process:\n",
        "   - $x_2 = 2.25 - \\frac{2.25^2 - 5}{2 \\cdot 2.25} ≈ 2.2361$\n",
        "   - $x_3 = 2.2361 - \\frac{2.2361^2 - 5}{2 \\cdot 2.2361} ≈ 2.2361$\n",
        "   - ...\n",
        "\n",
        "In this example, the Newton-Raphson method converges to an approximation of the square root of 5, which is approximately 2.2361. The method provides an accurate result different from the initial guess and demonstrates how it can find a different root."
      ]
    },
    {
      "cell_type": "code",
      "execution_count": null,
      "metadata": {
        "colab": {
          "base_uri": "https://localhost:8080/"
        },
        "id": "XUcQvxvWzxNj",
        "outputId": "dd43ad59-653d-4e16-a0d9-7ba907d49ebd"
      },
      "outputs": [
        {
          "name": "stdout",
          "output_type": "stream",
          "text": [
            "Approximate square root of 5: 2.236068\n"
          ]
        }
      ],
      "source": [
        "# Define the function and its derivative\n",
        "def f(x):\n",
        "    return x**2 - 5\n",
        "\n",
        "def df(x):\n",
        "    return 2 * x\n",
        "\n",
        "# Newton-Raphson method\n",
        "def newton_raphson(initial_guess, tol=1e-6, max_iterations=100):\n",
        "    x = initial_guess\n",
        "    for i in range(max_iterations):\n",
        "        x = x - f(x) / df(x)\n",
        "        if abs(f(x)) < tol:\n",
        "            return x\n",
        "    return None  # Return None if the method doesn't converge\n",
        "\n",
        "# Set the initial guess\n",
        "initial_guess = 2.0\n",
        "\n",
        "# Call the Newton-Raphson method\n",
        "result = newton_raphson(initial_guess)\n",
        "\n",
        "if result is not None:\n",
        "    print(f\"Approximate square root of 5: {result:.6f}\")\n",
        "else:\n",
        "    print(\"Newton-Raphson method did not converge.\")"
      ]
    },
    {
      "cell_type": "markdown",
      "metadata": {
        "id": "m-aidllB62v7"
      },
      "source": [
        "# 4- Solving Linear Systems"
      ]
    },
    {
      "cell_type": "markdown",
      "metadata": {
        "id": "UwZSfSaEKb6H"
      },
      "source": [
        "In the realm of mathematics and engineering, the exploration of linear systems is of utmost importance owing to its widespread relevance in real-world problem-solving. Linear systems, characterized by algebraic equations with variables raised to the power of one, necessitate the identification of a singular set of values for these variables that collectively fulfill all specified equations. The pursuit of exact solutions to linear systems involves employing diverse methodologies, including Gaussian elimination, matrix factorization, and eigendecomposition. These techniques offer versatile approaches to uncovering precise solutions and contribute significantly to the understanding and resolution of linear systems in a variety of applications."
      ]
    },
    {
      "cell_type": "markdown",
      "metadata": {
        "id": "PZL1N7TzKrfh"
      },
      "source": [
        "## 4.1- Exact Solution of Linear Systems"
      ]
    },
    {
      "cell_type": "markdown",
      "metadata": {
        "id": "dFMDu9npPKDq"
      },
      "source": [
        "In the study of linear systems, the focus is on solving a set of m equations in n variables, characterized by the form $E_i: a_{i1}x_1 + a_{i2}x_2 + \\ldots + a_{in}x_n = b_i$. Three operations—multiplication of an equation by a constant, addition of a multiple of one equation to another, and transposition of equations—are employed to simplify linear systems. These operations preserve solutions while facilitating systematic transformation for easier resolution. The transition to matrix representation enhances computational efficiency. In contrast, the exploration of non-linear systems, where variables are raised to powers other than one, requires innovative techniques such as numerical methods and iterative algorithms. This intricate realm poses challenges that, when addressed, offer valuable insights into system behavior.\n",
        "\n",
        "**Formula**:\n",
        "\n",
        "\\begin{align*}\n",
        "E_i: a_{i1}x_1 + a_{i2}x_2 + \\ldots + a_{in}x_n = b_i\n",
        "\\end{align*}\n",
        "\n",
        "**Example**:\n",
        "\n",
        "Consider the following linear system:\n",
        "\n",
        "\\begin{align*}\n",
        "E_1&: 2x + 3y - 4z = 9 \\\\\n",
        "E_2&: x + y + z = 1 \\\\\n",
        "E_3&: 4x - 2y + 2z = 2\n",
        "\\end{align*}"
      ]
    },
    {
      "cell_type": "code",
      "execution_count": null,
      "metadata": {
        "colab": {
          "base_uri": "https://localhost:8080/"
        },
        "id": "2P_nV6BEQEJH",
        "outputId": "52822291-1f92-44d5-d56b-238765ae78e6"
      },
      "outputs": [
        {
          "name": "stdout",
          "output_type": "stream",
          "text": [
            "Solution: [1.3684210526315792, 0.6842105263157894, -1.0526315789473684]\n"
          ]
        }
      ],
      "source": [
        "def gaussian_elimination(A, b):\n",
        "    # Augmenting the coefficient matrix with the right-hand side vector\n",
        "    augmented_matrix = [row + [bi] for row, bi in zip(A, b)]\n",
        "\n",
        "    # Forward elimination\n",
        "    for i in range(len(augmented_matrix)):\n",
        "        # Make the diagonal element 1\n",
        "        divisor = augmented_matrix[i][i]\n",
        "        augmented_matrix[i] = [elem / divisor for elem in augmented_matrix[i]]\n",
        "\n",
        "        # Eliminate other elements in the current column\n",
        "        for j in range(i + 1, len(augmented_matrix)):\n",
        "            factor = augmented_matrix[j][i]\n",
        "            augmented_matrix[j] = [elemj - factor * elemi for elemi, elemj in zip(augmented_matrix[i], augmented_matrix[j])]\n",
        "\n",
        "    # Backward substitution\n",
        "    x = [0] * len(A[0])\n",
        "    for i in range(len(augmented_matrix) - 1, -1, -1):\n",
        "        x[i] = augmented_matrix[i][-1]\n",
        "        for j in range(i + 1, len(augmented_matrix)):\n",
        "            x[i] -= augmented_matrix[i][j] * x[j]\n",
        "\n",
        "    return x\n",
        "\n",
        "# Example linear system\n",
        "A = [[2, 3, -4], [1, 1, 1], [4, -2, 2]]\n",
        "b = [9, 1, 2]\n",
        "\n",
        "# Solve using Gaussian elimination\n",
        "solution = gaussian_elimination(A, b)\n",
        "print(\"Solution:\", solution)"
      ]
    },
    {
      "cell_type": "markdown",
      "metadata": {
        "id": "hPqRSOMaQHpe"
      },
      "source": [
        "This code implements Gaussian elimination without using NumPy, showcasing the fundamental steps of forward elimination and backward substitution. Adjust the coefficients and right-hand side values as needed for different systems."
      ]
    },
    {
      "cell_type": "code",
      "execution_count": null,
      "metadata": {
        "colab": {
          "base_uri": "https://localhost:8080/"
        },
        "id": "NVhNDCmrPrYf",
        "outputId": "5ab8b917-5ee5-41f9-eafd-c989c4a5599a"
      },
      "outputs": [
        {
          "name": "stdout",
          "output_type": "stream",
          "text": [
            "Solution: [ 1.36842105  0.68421053 -1.05263158]\n"
          ]
        }
      ],
      "source": [
        "import numpy as np\n",
        "\n",
        "# Coefficient matrix\n",
        "A = np.array([[2, 3, -4], [1, 1, 1], [4, -2, 2]])\n",
        "\n",
        "# Right-hand side\n",
        "b = np.array([9, 1, 2])\n",
        "\n",
        "# Solve using NumPy's linear algebra solver\n",
        "solution = np.linalg.solve(A, b)\n",
        "print(\"Solution:\", solution)"
      ]
    },
    {
      "cell_type": "markdown",
      "metadata": {
        "id": "ZUaAH3qRQJBK"
      },
      "source": [
        "This example demonstrates solving a linear system using the NumPy library in Python, showcasing the application of matrices and efficient computational techniques for obtaining exact solutions. Adjust coefficients and right-hand side values for different systems."
      ]
    },
    {
      "cell_type": "markdown",
      "metadata": {
        "id": "cNkG1WITLEDI"
      },
      "source": [
        "## 4.2- Matrices and vectors"
      ]
    },
    {
      "cell_type": "markdown",
      "metadata": {
        "id": "tcZP760IUz0h"
      },
      "source": [
        "A matrix is a two-dimensional array of numbers organized into rows and columns, denoted as an $m \\times n$ matrix, where $m$ is the number of rows and $n$ is the number of columns. Elements of a matrix are individual items within it. A square matrix has equal rows and columns. The main diagonal consists of elements $a_{i,i}$, forming a line from the upper left to the lower right. A matrix with one row and $n$ elements is an $n$-dimensional row vector, while one column and $n$ elements make an $n$-dimensional column vector. These vectors find applications in diverse fields due to their ability to compactly represent and manipulate multiple variables simultaneously.\n",
        "\n",
        "- **Matrix:**\n",
        "$A =\n",
        "\\begin{bmatrix}\n",
        "a_{11} & a_{12} & \\ldots & a_{1n} \\\\\n",
        "a_{21} & a_{22} & \\ldots & a_{2n} \\\\\n",
        "\\vdots & \\vdots & \\ddots & \\vdots \\\\\n",
        "a_{m1} & a_{m2} & \\ldots & a_{mn}\n",
        "\\end{bmatrix}$\n",
        "  \n",
        "- **Row Vector:**\n",
        "$y^T =\n",
        "\\begin{bmatrix}\n",
        "y1 \\\\\n",
        "y2 \\\\\n",
        "\\vdots\\\\\n",
        "yn\n",
        "\\end{bmatrix}$\n",
        "\n",
        "- **Column Vector:** $ x = \\begin{bmatrix} x_1 \\\\ x_2 \\\\ \\vdots \\\\ x_n \\end{bmatrix}$\n",
        "\n",
        "**Example**:\n",
        "\n",
        "Consider a matrix $A$ and vectors $x$ and $y$:\n",
        "\n",
        "\\begin{align*}\n",
        "A =\n",
        "\\begin{bmatrix}\n",
        "1 & 2 & 3 \\\\\n",
        "4 & 5 & 6 \\\\\n",
        "7 & 8 & 9\n",
        "\\end{bmatrix}\n",
        ",x =\n",
        "\\begin{bmatrix}\n",
        "1 \\\\\n",
        "2 \\\\\n",
        "3\n",
        "\\end{bmatrix},\n",
        "y^T =\n",
        "\\begin{bmatrix}\n",
        "4 \\\\\n",
        "5 \\\\\n",
        "6\n",
        "\\end{bmatrix}\n",
        "\\end{align*}"
      ]
    },
    {
      "cell_type": "markdown",
      "metadata": {
        "id": "kwyl4hniLsLp"
      },
      "source": [
        "### 4.2.1- Special types of square matrices"
      ]
    },
    {
      "cell_type": "markdown",
      "metadata": {
        "id": "hHztzd7NcE7a"
      },
      "source": [
        "1. **Diagonal Matrix:**\n",
        "   - **Formula:** A square matrix $D$ is diagonal if $d_{ij} = 0$ for all $i \\neq j$.\n",
        "   - **Example:**\n",
        "\n",
        "   $ D = \\begin{bmatrix} 3 & 0 & 0 \\\\ 0 & 8 & 0 \\\\ 0 & 0 & -2 \\end{bmatrix} $\n",
        "2. **Upper Triangular Matrix:**\n",
        "   - **Formula:** A square matrix $U$ is upper triangular if $u_{ij} = 0$ for all $i > j$.\n",
        "   - **Example:**\n",
        "\n",
        "   $ U = \\begin{bmatrix} 1 & 4 & 7 \\\\ 0 & 5 & 8 \\\\ 0 & 0 & 9 \\end{bmatrix} $\n",
        "\n",
        "3. **Lower Triangular Matrix:**\n",
        "   - **Formula:** A square matrix $L$ is lower triangular if $l_{ij} = 0$ for all $i < j$.\n",
        "   - **Example:**\n",
        "\n",
        "   $ L = \\begin{bmatrix} 2 & 0 & 0 \\\\ 6 & 5 & 0 \\\\ 1 & -3 & 9 \\end{bmatrix} $"
      ]
    },
    {
      "cell_type": "markdown",
      "metadata": {
        "id": "qCbftlztLYIf"
      },
      "source": [
        "## 4.3- Gaussian Elimination"
      ]
    },
    {
      "cell_type": "markdown",
      "metadata": {
        "id": "MNqr_TFKmLqb"
      },
      "source": [
        "Gaussian elimination is a standard procedure for transforming an $m \\times n$ matrix $M$ over a field $F$ into reduced row echelon form. The process involves elementary row operations, including scaling a row by a field element, subtracting a multiple of one row from another, and swapping two rows. The resulting matrix $M$ in reduced row echelon form exhibits the following characteristics:\n",
        "- Rows entirely consisting of zeros are positioned at the bottom.\n",
        "- Each non-zero row has exactly one non-zero element at the left-most position.\n",
        "- The count of leading zeros in each row strictly increases from top to bottom.\n",
        "\n",
        "**Formula**:\n",
        "\n",
        "The elementary row operations are:\n",
        "1. **Scaling a Row:** Multiply a row by the inverse of the left-most non-zero element in the row.\n",
        "2. **Row Subtraction:** Subtract a multiple of one row from another to create a new left-most zero element.\n",
        "3. **Row Swapping:** Swap two rows to reposition a new non-zero pivot element at the top.\n",
        "\n",
        "**Example**:\n",
        "\n",
        "Consider the matrix $M$ before and after Gaussian elimination:\n",
        "$ M = \\begin{bmatrix} 2 & 3 & 1 \\\\ 4 & 7 & 3 \\\\ 6 & 8 & 9 \\end{bmatrix} $"
      ]
    },
    {
      "cell_type": "code",
      "execution_count": null,
      "metadata": {
        "colab": {
          "base_uri": "https://localhost:8080/"
        },
        "id": "3d6CSFJ4nc9S",
        "outputId": "1931cb42-54dd-4092-b27a-2a26ff1f23d2"
      },
      "outputs": [
        {
          "name": "stdout",
          "output_type": "stream",
          "text": [
            "Original Matrix:\n",
            "[2, 3, 1]\n",
            "[4, 7, 3]\n",
            "[6, 8, 9]\n",
            "\n",
            "Matrix after Gaussian Elimination:\n",
            "[1.0, 1.5, 0.5]\n",
            "[0.0, 1.0, 1.0]\n",
            "[0.0, 0.0, 1.0]\n"
          ]
        }
      ],
      "source": [
        "# Example matrix\n",
        "M = [\n",
        "    [2, 3, 1],\n",
        "    [4, 7, 3],\n",
        "    [6, 8, 9]\n",
        "]\n",
        "\n",
        "# Gaussian elimination\n",
        "def gaussian_elimination(matrix):\n",
        "    for i in range(len(matrix)):\n",
        "        # Scaling to make the pivot element 1\n",
        "        pivot = matrix[i][i]\n",
        "        for j in range(len(matrix[i])):\n",
        "            matrix[i][j] /= pivot\n",
        "\n",
        "        # Row subtraction to create left-most zero elements\n",
        "        for k in range(i + 1, len(matrix)):\n",
        "            factor = matrix[k][i]\n",
        "            for j in range(len(matrix[i])):\n",
        "                matrix[k][j] -= factor * matrix[i][j]\n",
        "\n",
        "    return matrix\n",
        "\n",
        "# Apply Gaussian elimination\n",
        "result_matrix = gaussian_elimination([row.copy() for row in M])\n",
        "\n",
        "# Display the original and result matrices\n",
        "print(\"Original Matrix:\")\n",
        "for row in M:\n",
        "    print(row)\n",
        "print(\"\\nMatrix after Gaussian Elimination:\")\n",
        "for row in result_matrix:\n",
        "    print(row)\n"
      ]
    },
    {
      "cell_type": "markdown",
      "metadata": {
        "id": "wgbMKHSDMGjA"
      },
      "source": [
        "## 4.4- The Determinant of a Matrix"
      ]
    },
    {
      "cell_type": "markdown",
      "metadata": {
        "id": "xI9tyQqQosVT"
      },
      "source": [
        "The determinant of a square matrix is a scalar value that provides information about the matrix's properties. It is denoted as $\\text{det}(A)$ or $\\lvert A \\rvert$. The determinant is defined for matrices of size $n \\times n$. The formula for a 2x2 matrix is $\\text{det}(A) = ad - bc$, and for larger matrices, various methods like cofactor expansion or LU decomposition can be employed. The determinant is used in various mathematical and engineering applications, such as solving systems of linear equations and calculating eigenvalues.\n",
        "\n",
        "**Formula**:\n",
        "\n",
        "For a 2x2 matrix $A = \\begin{bmatrix} a & b \\\\ c & d \\end{bmatrix}$:\n",
        "$ \\text{det}(A) = ad - bc $\n",
        "\n",
        "For a general n x n matrix $A$, the determinant can be computed using methods like cofactor expansion or LU decomposition.\n",
        "\n",
        "**Example**:\n",
        "\n",
        "Consider a 3x3 matrix:\n",
        "$ A = \\begin{bmatrix} 2 & 3 & 1 \\\\ 4 & 7 & 3 \\\\ 6 & 8 & 9 \\end{bmatrix} $"
      ]
    },
    {
      "cell_type": "code",
      "execution_count": null,
      "metadata": {
        "colab": {
          "base_uri": "https://localhost:8080/"
        },
        "id": "qJC8qtHaoE34",
        "outputId": "a9eab21e-05a2-43f6-d8ba-58ca970e8f10"
      },
      "outputs": [
        {
          "name": "stdout",
          "output_type": "stream",
          "text": [
            "Matrix A:\n",
            "[2, 3, 1]\n",
            "[4, 7, 3]\n",
            "[6, 8, 9]\n",
            "\n",
            "Determinant of A: 14\n"
          ]
        }
      ],
      "source": [
        "def determinant(matrix):\n",
        "    # Base case: determinant of 2x2 matrix\n",
        "    if len(matrix) == 2 and len(matrix[0]) == 2:\n",
        "        return matrix[0][0] * matrix[1][1] - matrix[0][1] * matrix[1][0]\n",
        "\n",
        "    det = 0\n",
        "    for i in range(len(matrix)):\n",
        "        # Create submatrix by excluding the current row and column\n",
        "        submatrix = [row[:i] + row[i + 1:] for row in matrix[1:]]\n",
        "\n",
        "        # Alternate signs for cofactor expansion\n",
        "        sign = (-1) ** i\n",
        "\n",
        "        # Recursive call to calculate the determinant\n",
        "        det += sign * matrix[0][i] * determinant(submatrix)\n",
        "\n",
        "    return det\n",
        "\n",
        "# Example matrix\n",
        "A = [[2, 3, 1], [4, 7, 3], [6, 8, 9]]\n",
        "\n",
        "# Calculate determinant without NumPy\n",
        "det_A = determinant(A)\n",
        "\n",
        "# Display the matrix and determinant\n",
        "print(\"Matrix A:\")\n",
        "for row in A:\n",
        "    print(row)\n",
        "print(\"\\nDeterminant of A:\", det_A)"
      ]
    },
    {
      "cell_type": "markdown",
      "metadata": {
        "id": "wYrdhoBqpake"
      },
      "source": [
        "This code defines a `determinant` function using a recursi|ve approach for general nxn matrices. Adjust the values in the `A` matrix for different examples."
      ]
    }
  ],
  "metadata": {
    "colab": {
      "provenance": [],
      "toc_visible": true
    },
    "kernelspec": {
      "display_name": "Python 3 (ipykernel)",
      "language": "python",
      "name": "python3"
    },
    "language_info": {
      "codemirror_mode": {
        "name": "ipython",
        "version": 3
      },
      "file_extension": ".py",
      "mimetype": "text/x-python",
      "name": "python",
      "nbconvert_exporter": "python",
      "pygments_lexer": "ipython3",
      "version": "3.11.3"
    }
  },
  "nbformat": 4,
  "nbformat_minor": 0
}