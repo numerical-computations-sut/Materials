{
 "cells": [
  {
   "cell_type": "markdown",
   "metadata": {
    "id": "0YW1gqrbrC6C"
   },
   "source": [
    "<br>\n",
    "<font>\n",
    "<div dir=ltr align=center>\n",
    "<font color=white size=15>\n",
    "    Numerical Computations <br>\n",
    "<font color=Red size=6>\n",
    "<font color=white size=3>\n",
    "    Samira Hossein Ghorban <br>\n",
    "    Department of Computer Engineering <br>\n",
    "    Sharif University of Technology (SUT) <br>\n",
    "    Tehran, Iran <br>\n",
    "\n",
    "<font color=696880 size=2>\n",
    "........\n",
    "<!-- <img src='http://www-scf.usc.edu/~ghasemig/images/sharif.png' alt=\"SUT logo\" width=300 height=300 align=center class=\"saturate\" > -->"
   ]
  },
  {
   "cell_type": "markdown",
   "metadata": {},
   "source": [
    "In computational science and engineering, solving non-linear ordinary differential equations (ODEs) is a critical task. These equations often model complex phenomena in various fields such as physics, biology, and engineering. The challenge lies in the fact that non-linear ODE systems do not generally have analytical solutions, necessitating the use of numerical methods.\n",
    "\n",
    "Your task is to apply numerical methods to solve a complex system of non-linear ODEs. This involves first determining initial conditions from a set of non-linear equations and then using these conditions to solve the ODE system. "
   ]
  },
  {
   "cell_type": "markdown",
   "metadata": {
    "id": "i1pfEswxvUYI"
   },
   "source": [
    "### **Non-linear System of Equations for Initial Conditions:**\n",
    "\n",
    "   Solve the following non-linear system of equations to find the initial conditions for the ODE system:\n",
    "\n",
    "   $$\n",
    "   x^3 + y - 10 = 0\n",
    "   $$\n",
    "   $$\n",
    "   e^{-x} + \\sin(z) - 1 = 0\n",
    "   $$\n",
    "   $$\n",
    "   y^2 - z + 2 = 0\n",
    "   $$\n",
    "\n",
    "   Implement solvers for this system using the Newton-Raphson method."
   ]
  },
  {
   "cell_type": "markdown",
   "metadata": {},
   "source": [
    "#### **Newton-Raphson Method**\n",
    "    \n",
    "In the Newton-Raphson method, we iterate using the formula:\n",
    "$$\n",
    "\\mathbf{x}_{n+1} = \\mathbf{x}_n - J^{-1}(\\mathbf{x}_n) \\cdot F(\\mathbf{x}_n)\n",
    "$$\n",
    "\n",
    "where $ \\mathbf{x}_n $ is the vector of variables at the nth iteration, $J$ is the Jacobian matrix, and $F$ is the vector of functions.\n",
    "\n",
    "Start with an initial guess $x_{0}=1, y_{0}=1, z_{0}=1$\n",
    "\n",
    "Generate three subplots showing how the estimated values of $x$, $y$ and $z$ change with each iteration.\n",
    "\n"
   ]
  },
  {
   "cell_type": "code",
   "execution_count": null,
   "metadata": {},
   "outputs": [],
   "source": [
    "# Your Code"
   ]
  },
  {
   "cell_type": "markdown",
   "metadata": {
    "id": "eboqXoY8sJ_S"
   },
   "source": [
    "### **Non-linear ODE System:**\n",
    "\n",
    "   Once you have the initial conditions from the Newton-Raphson method, use them to solve the non-linear ODE system:   \n",
    "   $$ \n",
    "    \\frac{dx}{dt} = yz - x \n",
    "   $$\n",
    "   \n",
    "   $$  \\frac{dy}{dt} = x^2 - \\cos(z)  $$\n",
    "   $$ \\frac{dz}{dt} = e^{-y} - xz  $$\n",
    "\n",
    "   The solution to the ODE system using different numerical methods (Euler, Improved Euler, and 4th-order Runge-Kutta) can be interpreted from the final values of the variables $x$, $y$, and $z$ at the end of the time interval (from $ t = 0 $ to $ t = 10 $).\n",
    "   at the end, show the final values of $x$, $y$, and $z$ at $ t = 10 $.   \n",
    "   Let the time step dt be 0.1.   \n"
   ]
  },
  {
   "cell_type": "markdown",
   "metadata": {},
   "source": [
    "#### **1. Euler's Method**\n",
    "\n",
    "Euler's method is the simplest form of a numerical method for solving ordinary differential equations. The formulation is as follows:\n",
    "\n",
    "Given a differential equation of the form $\\frac{dy}{dt} = f(t, y)$ with an initial condition $y(t_0) = y_0$, the Euler method creates a sequence of approximations for $y$ at discrete time steps. For a step size $dt$, the formulation is:\n",
    "\n",
    "$$\n",
    "y_{n+1} = y_n + dt \\cdot f(t_n, y_n)\n",
    "$$\n",
    "\n",
    "where $y_n$ is the approximation of $y$ at time $t_n$."
   ]
  },
  {
   "cell_type": "markdown",
   "metadata": {},
   "source": [
    "\n",
    "#### **2. Improved Euler's Method (Heun's Method)**\n",
    "\n",
    "Improved Euler's Method, also known as Heun's Method, is a simple modification of Euler's method that generally gives better accuracy. It uses an average of the slopes at the beginning and the end of the interval to compute the next value. The formulation is:\n",
    "\n",
    "$$\n",
    "\\begin{align*}\n",
    "k_1 &= f(t_n, y_n) \\\\\n",
    "k_2 &= f(t_n + dt, y_n + dt \\cdot k_1) \\\\\n",
    "y_{n+1} &= y_n + \\frac{dt}{2} \\cdot (k_1 + k_2)\n",
    "\\end{align*}\n",
    "$$"
   ]
  },
  {
   "cell_type": "markdown",
   "metadata": {},
   "source": [
    "\n",
    "#### **3. Runge-Kutta 4th Order Method**\n",
    "    \n",
    "The 4th Order Runge-Kutta Method (RK4) is a much more accurate method compared to Euler's and Improved Euler's methods. It involves calculating four intermediate slopes and taking a weighted average of these slopes to compute the next value. The formulation is:\n",
    "\n",
    "$$\n",
    "\\begin{align*}\n",
    "k_1 &= f(t_n, y_n) \\\\\n",
    "k_2 &= f\\left(t_n + \\frac{dt}{2}, y_n + \\frac{dt}{2} \\cdot k_1\\right) \\\\\n",
    "k_3 &= f\\left(t_n + \\frac{dt}{2}, y_n + \\frac{dt}{2} \\cdot k_2\\right) \\\\\n",
    "k_4 &= f(t_n + dt, y_n + dt \\cdot k_3) \\\\\n",
    "y_{n+1} &= y_n + \\frac{dt}{6} \\cdot (k_1 + 2k_2 + 2k_3 + k_4)\n",
    "\\end{align*}\n",
    "$$\n",
    "\n",
    "Each of these methods offers different levels of accuracy and computational complexity. Euler's method is the simplest but least accurate, Improved Euler's method offers a better balance, and RK4 provides high accuracy at the cost of increased computational efforts."
   ]
  },
  {
   "cell_type": "code",
   "execution_count": null,
   "metadata": {},
   "outputs": [],
   "source": [
    "# Your Code"
   ]
  },
  {
   "cell_type": "markdown",
   "metadata": {},
   "source": [
    "#### **Visualization**\n",
    "    \n",
    "Also make three subplots showing how the estimated values of $x$, $y$ and $z$ change over time using each method.\n"
   ]
  },
  {
   "cell_type": "code",
   "execution_count": null,
   "metadata": {},
   "outputs": [],
   "source": [
    "# Your Code"
   ]
  },
  {
   "cell_type": "markdown",
   "metadata": {},
   "source": [
    "\n",
    "\n",
    "### **Fixed Point Iteration Method**\n",
    "\n",
    "Fixed Point Iteration is a method of computing fixed points of iterated functions. For a function $ g(x) $, a point $ x $ is called a fixed point if $ g(x) = x $. In the context of root finding, we can manipulate the root-finding problem $ f(x) = 0 $ into a fixed point problem $ x = g(x) $ and use Fixed Point Iteration to solve it.\n",
    "\n",
    "You are provided with the following iterative functions derived from the equation $ f(x) = x^2 - 3x + 2 $:\n",
    "1. $ g_1(x) = \\frac{1}{3}x^2 + \\frac{2}{3} $\n",
    "2. $ g_2(x) = \\sqrt{3x - 2} $\n",
    "3. $ g_3(x) = 3 - \\frac{2}{x} $\n",
    "\n",
    "\n",
    "Analyze the convergence criterion by evaluating the derivative of each $ g_i(x) $ at the root $ x = 2 $. A sufficient condition for local convergence of the method is $ |g'_i(x)| < 1 $ at the fixed point.\n",
    "\n"
   ]
  },
  {
   "cell_type": "markdown",
   "metadata": {},
   "source": [
    "**Fixed Point Iteration**:\n",
    "   - Implement the Fixed Point Iteration method using each $ g_i(x) $. The method should iterate until the absolute difference between successive iterations is less than $10^{-6}$ or until a maximum number of iterations is reached.\n",
    "    Choose the starting value of $x$ to be $x0 = 3$."
   ]
  },
  {
   "cell_type": "code",
   "execution_count": null,
   "metadata": {},
   "outputs": [],
   "source": [
    "# Your Code"
   ]
  },
  {
   "cell_type": "markdown",
   "metadata": {},
   "source": [
    " **Visualization**:\n",
    "   - Plot the values of $ x $ at each iteration to visualize the convergence or divergence for each function."
   ]
  },
  {
   "cell_type": "code",
   "execution_count": null,
   "metadata": {},
   "outputs": [],
   "source": [
    "# Your Code"
   ]
  },
  {
   "cell_type": "markdown",
   "metadata": {},
   "source": [
    "\n",
    "**Analysis and Discussion**:\n",
    "   - Based on the derivative analysis, predict the convergence behavior for each $ g_i(x) $.\n",
    "   - Compare your predictions with the actual iteration results obtained from your implementation.\n",
    "   - Discuss any differences between the expected and actual behavior."
   ]
  },
  {
   "cell_type": "markdown",
   "metadata": {},
   "source": [
    "## Your Explanation"
   ]
  }
 ],
 "metadata": {
  "colab": {
   "provenance": []
  },
  "kernelspec": {
   "display_name": "Python 3 (ipykernel)",
   "language": "python",
   "name": "python3"
  },
  "language_info": {
   "codemirror_mode": {
    "name": "ipython",
    "version": 3
   },
   "file_extension": ".py",
   "mimetype": "text/x-python",
   "name": "python",
   "nbconvert_exporter": "python",
   "pygments_lexer": "ipython3",
   "version": "3.8.10"
  }
 },
 "nbformat": 4,
 "nbformat_minor": 1
}
