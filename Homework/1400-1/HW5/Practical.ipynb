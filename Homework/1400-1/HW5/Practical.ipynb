{
  "cells": [
    {
      "cell_type": "markdown",
      "metadata": {
        "id": "ti9ZL7QgTOjS"
      },
      "source": [
        "# Numerical computations\n",
        "## Homework 5\n",
        "## Ordinary Differential equations\n",
        "\n",
        "Execute this section to install the needed libraries."
      ]
    },
    {
      "cell_type": "code",
      "execution_count": null,
      "metadata": {
        "id": "YQP6d1lzTOjV"
      },
      "outputs": [],
      "source": [
        "from sympy import *"
      ]
    },
    {
      "cell_type": "markdown",
      "metadata": {
        "id": "AaGAVkuxTOjd"
      },
      "source": [
        "### 1. Find general answer of these ODEs (use the given library) (10 points):\n",
        "\n",
        "I. (5 points)\n",
        "$$y^{(4)} - 3 y ^{(2)} + y - 1 = 0 $$\n"
      ]
    },
    {
      "cell_type": "code",
      "execution_count": null,
      "metadata": {
        "id": "zsa8jNs0TOje"
      },
      "outputs": [],
      "source": [
        ""
      ]
    },
    {
      "cell_type": "markdown",
      "metadata": {
        "id": "oiY_0_sUTOje"
      },
      "source": [
        "II. (5 points)\n",
        "$$y^{(3)} + 2y^{(2)} + 3y^{(1)} + 4y + 5 = 0$$"
      ]
    },
    {
      "cell_type": "code",
      "execution_count": null,
      "metadata": {
        "id": "fFxUzQI9TOjf"
      },
      "outputs": [],
      "source": [
        ""
      ]
    },
    {
      "cell_type": "markdown",
      "metadata": {
        "id": "0m-FsNd3TOjf"
      },
      "source": [
        "### 2. Solve the given first order non-linear ODE Using 4th order Runge-kutta method and then plot it (20 points)\n",
        "\n",
        "For a sample equation:\n",
        "\n",
        "$$y^{(1)} = \\frac{ye^x}{1+e^x}$$\n",
        "$$ interval = (1, 10) $$\n",
        "$$ h = 0.01 $$\n",
        "$$ y(1) = 1 $$\n",
        "\n",
        "We have this input (in the same order):\n",
        "\n",
        "```\n",
        "y * exp(x) / (1 + exp(x))\n",
        "1 10\n",
        "0.01\n",
        "1\n",
        "```\n",
        "\n",
        "Note that the equation might contain functions of x.\n"
      ]
    },
    {
      "cell_type": "code",
      "source": [
        ""
      ],
      "metadata": {
        "id": "hoWc592Hzs5m"
      },
      "execution_count": null,
      "outputs": []
    }
  ],
  "metadata": {
    "kernelspec": {
      "display_name": "Python 3",
      "language": "python",
      "name": "python3"
    },
    "language_info": {
      "codemirror_mode": {
        "name": "ipython",
        "version": 3
      },
      "file_extension": ".py",
      "mimetype": "text/x-python",
      "name": "python",
      "nbconvert_exporter": "python",
      "pygments_lexer": "ipython3",
      "version": "3.7.0"
    },
    "colab": {
      "name": "practical.ipynb",
      "provenance": []
    }
  },
  "nbformat": 4,
  "nbformat_minor": 0
}