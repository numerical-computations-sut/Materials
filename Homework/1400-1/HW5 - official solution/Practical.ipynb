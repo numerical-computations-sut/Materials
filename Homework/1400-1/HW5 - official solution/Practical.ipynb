{
 "cells": [
  {
   "cell_type": "markdown",
   "metadata": {
    "id": "ti9ZL7QgTOjS"
   },
   "source": [
    "# Numerical computations\n",
    "## Homework 5\n",
    "## Ordinary Differential equations\n",
    "\n",
    "Execute this section to install the needed libraries."
   ]
  },
  {
   "cell_type": "code",
   "execution_count": 1,
   "metadata": {
    "id": "YQP6d1lzTOjV"
   },
   "outputs": [],
   "source": [
    "from sympy import *"
   ]
  },
  {
   "cell_type": "code",
   "execution_count": 2,
   "metadata": {
    "id": "zsa8jNs0TOje"
   },
   "outputs": [],
   "source": [
    "x = symbols('x')\n",
    "y = Function('y')(x)"
   ]
  },
  {
   "cell_type": "markdown",
   "metadata": {
    "id": "AaGAVkuxTOjd"
   },
   "source": [
    "### 1. Find general answer of these ODEs (use the given library) (10 points):\n",
    "\n",
    "I. (5 points)\n",
    "$$y^{(4)} - 3 y ^{(2)} + y - 1 = 0 $$\n"
   ]
  },
  {
   "cell_type": "code",
   "execution_count": 3,
   "metadata": {},
   "outputs": [
    {
     "data": {
      "text/latex": [
       "$\\displaystyle y{\\left(x \\right)} - 3 \\frac{d^{2}}{d x^{2}} y{\\left(x \\right)} + \\frac{d^{4}}{d x^{4}} y{\\left(x \\right)} - 1$"
      ],
      "text/plain": [
       "y(x) - 3*Derivative(y(x), (x, 2)) + Derivative(y(x), (x, 4)) - 1"
      ]
     },
     "execution_count": 3,
     "metadata": {},
     "output_type": "execute_result"
    }
   ],
   "source": [
    "eq = y.diff(x, 4) - 3 * y.diff(x, 2) + y - 1\n",
    "eq"
   ]
  },
  {
   "cell_type": "code",
   "execution_count": 4,
   "metadata": {
    "scrolled": true
   },
   "outputs": [
    {
     "data": {
      "text/latex": [
       "$\\displaystyle y{\\left(x \\right)} = C_{1} e^{\\frac{x \\left(-1 + \\sqrt{5}\\right)}{2}} + C_{2} e^{\\frac{x \\left(1 - \\sqrt{5}\\right)}{2}} + C_{3} e^{\\frac{x \\left(1 + \\sqrt{5}\\right)}{2}} + C_{4} e^{\\frac{x \\left(- \\sqrt{5} - 1\\right)}{2}} + 1$"
      ],
      "text/plain": [
       "Eq(y(x), C1*exp(x*(-1 + sqrt(5))/2) + C2*exp(x*(1 - sqrt(5))/2) + C3*exp(x*(1 + sqrt(5))/2) + C4*exp(x*(-sqrt(5) - 1)/2) + 1)"
      ]
     },
     "execution_count": 4,
     "metadata": {},
     "output_type": "execute_result"
    }
   ],
   "source": [
    "sol = dsolve(eq, hint='nth_linear_constant_coeff_undetermined_coefficients')\n",
    "sol"
   ]
  },
  {
   "cell_type": "code",
   "execution_count": 5,
   "metadata": {},
   "outputs": [
    {
     "data": {
      "text/plain": [
       "(True, 0)"
      ]
     },
     "execution_count": 5,
     "metadata": {},
     "output_type": "execute_result"
    }
   ],
   "source": [
    "checkodesol(eq, sol)"
   ]
  },
  {
   "cell_type": "markdown",
   "metadata": {
    "id": "oiY_0_sUTOje"
   },
   "source": [
    "II. (5 points)\n",
    "$$y^{(3)} + 2y^{(2)} + 3y^{(1)} + 4y + 5 = 0$$"
   ]
  },
  {
   "cell_type": "code",
   "execution_count": 6,
   "metadata": {
    "id": "fFxUzQI9TOjf"
   },
   "outputs": [
    {
     "data": {
      "text/latex": [
       "$\\displaystyle 4 y{\\left(x \\right)} + 3 \\frac{d}{d x} y{\\left(x \\right)} + 2 \\frac{d^{2}}{d x^{2}} y{\\left(x \\right)} + \\frac{d^{3}}{d x^{3}} y{\\left(x \\right)} + 5$"
      ],
      "text/plain": [
       "4*y(x) + 3*Derivative(y(x), x) + 2*Derivative(y(x), (x, 2)) + Derivative(y(x), (x, 3)) + 5"
      ]
     },
     "execution_count": 6,
     "metadata": {},
     "output_type": "execute_result"
    }
   ],
   "source": [
    "eq = y.diff(x, 3) + 2 * y.diff(x, 2) + 3 * y.diff(x) + 4 * y + 5\n",
    "eq"
   ]
  },
  {
   "cell_type": "code",
   "execution_count": 7,
   "metadata": {},
   "outputs": [
    {
     "data": {
      "text/latex": [
       "$\\displaystyle y{\\left(x \\right)} = C_{1} e^{\\frac{x \\left(-4 - \\frac{5^{\\frac{2}{3}}}{\\sqrt[3]{7 + 3 \\sqrt{6}}} + \\sqrt[3]{5} \\sqrt[3]{7 + 3 \\sqrt{6}}\\right)}{6}} \\sin{\\left(\\frac{\\sqrt{3} \\sqrt[3]{5} x \\left(\\frac{\\sqrt[3]{5}}{\\sqrt[3]{7 + 3 \\sqrt{6}}} + \\sqrt[3]{7 + 3 \\sqrt{6}}\\right)}{6} \\right)} + C_{2} e^{\\frac{x \\left(-4 - \\frac{5^{\\frac{2}{3}}}{\\sqrt[3]{7 + 3 \\sqrt{6}}} + \\sqrt[3]{5} \\sqrt[3]{7 + 3 \\sqrt{6}}\\right)}{6}} \\cos{\\left(\\frac{\\sqrt{3} \\sqrt[3]{5} x \\left(\\frac{\\sqrt[3]{5}}{\\sqrt[3]{7 + 3 \\sqrt{6}}} + \\sqrt[3]{7 + 3 \\sqrt{6}}\\right)}{6} \\right)} + C_{3} e^{\\frac{x \\left(- \\sqrt[3]{5} \\sqrt[3]{7 + 3 \\sqrt{6}} - 2 + \\frac{5^{\\frac{2}{3}}}{\\sqrt[3]{7 + 3 \\sqrt{6}}}\\right)}{3}} - \\frac{5}{4}$"
      ],
      "text/plain": [
       "Eq(y(x), C1*exp(x*(-4 - 5**(2/3)/(7 + 3*sqrt(6))**(1/3) + 5**(1/3)*(7 + 3*sqrt(6))**(1/3))/6)*sin(sqrt(3)*5**(1/3)*x*(5**(1/3)/(7 + 3*sqrt(6))**(1/3) + (7 + 3*sqrt(6))**(1/3))/6) + C2*exp(x*(-4 - 5**(2/3)/(7 + 3*sqrt(6))**(1/3) + 5**(1/3)*(7 + 3*sqrt(6))**(1/3))/6)*cos(sqrt(3)*5**(1/3)*x*(5**(1/3)/(7 + 3*sqrt(6))**(1/3) + (7 + 3*sqrt(6))**(1/3))/6) + C3*exp(x*(-5**(1/3)*(7 + 3*sqrt(6))**(1/3) - 2 + 5**(2/3)/(7 + 3*sqrt(6))**(1/3))/3) - 5/4)"
      ]
     },
     "execution_count": 7,
     "metadata": {},
     "output_type": "execute_result"
    }
   ],
   "source": [
    "sol = dsolve(eq, hint='nth_linear_constant_coeff_undetermined_coefficients')\n",
    "sol"
   ]
  },
  {
   "cell_type": "code",
   "execution_count": 8,
   "metadata": {},
   "outputs": [
    {
     "data": {
      "text/plain": [
       "(True, 0)"
      ]
     },
     "execution_count": 8,
     "metadata": {},
     "output_type": "execute_result"
    }
   ],
   "source": [
    "checkodesol(eq, sol)"
   ]
  },
  {
   "cell_type": "code",
   "execution_count": null,
   "metadata": {
    "id": "0m-FsNd3TOjf"
   },
   "outputs": [],
   "source": [
    "### 2. Solve the given first order non-linear ODE Using 4th order Runge-kutta method and then plot it (20 points)\n",
    "\n",
    "For a sample equation:\n",
    "\n",
    "$$y^{(1)} = \\frac{ye^x}{1+e^x}$$\n",
    "$$ interval = (1, 10) $$\n",
    "$$ h = 0.01 $$\n",
    "$$ y(1) = 1 $$\n",
    "\n",
    "We have this input (in the same order):\n",
    "\n",
    "```\n",
    "y * exp(x) / (1 + exp(x))\n",
    "1 10\n",
    "0.01\n",
    "1\n",
    "```\n",
    "\n",
    "Note that the equation might contain functions of x.\n"
   ]
  },
  {
   "cell_type": "code",
   "execution_count": 9,
   "metadata": {
    "id": "hoWc592Hzs5m"
   },
   "outputs": [],
   "source": [
    "import numpy as np\n",
    "from numpy import *\n",
    "import matplotlib.pyplot as plt"
   ]
  },
  {
   "cell_type": "code",
   "execution_count": 10,
   "metadata": {},
   "outputs": [],
   "source": [
    "def process_inputs(y_prime, interval, h, y0):\n",
    "    f = eval(f'lambda x, y: {y_prime}')\n",
    "    x0, xn = map(float, interval.split())\n",
    "    x = np.arange(x0, xn, h).tolist() + [xn]\n",
    "    y = [y0]\n",
    "    return f, x, y"
   ]
  },
  {
   "cell_type": "code",
   "execution_count": 11,
   "metadata": {},
   "outputs": [],
   "source": [
    "def plot(x, y, y_prime):\n",
    "    plt.plot(x, y)\n",
    "    plt.title(f'$y\\' = {y_prime} \\Rightarrow y({x[-1]:.2f}) = {y[-1]:.2f}$')\n",
    "    plt.xlabel('x')\n",
    "    plt.ylabel('y')\n",
    "    plt.show()\n",
    "    plt.close()"
   ]
  },
  {
   "cell_type": "code",
   "execution_count": 12,
   "metadata": {},
   "outputs": [],
   "source": [
    "def solve_runge_kutta(y_prime, interval, h, y0):\n",
    "    f, x, y = process_inputs(y_prime, interval, h, y0)\n",
    "    for xi in x[:-1]:\n",
    "        yi = y[-1]\n",
    "        k1 = h * f(xi, yi)\n",
    "        k2 = h * f(xi + h / 2, yi + k1 / 2)\n",
    "        k3 = h * f(xi + h / 2, yi + k2 / 2)\n",
    "        k4 = h * f(xi + h, yi + k3)\n",
    "        y.append(yi + (k1 + 2 * (k2 + k3) + k4) / 6)\n",
    "    plot(x, y, y_prime)\n",
    "    return y[-1]"
   ]
  },
  {
   "cell_type": "code",
   "execution_count": 13,
   "metadata": {},
   "outputs": [
    {
     "data": {
      "image/png": "[encoded data removed]",
      "text/plain": [
       "<Figure size 640x480 with 1 Axes>"
      ]
     },
     "metadata": {},
     "output_type": "display_data"
    },
    {
     "data": {
      "text/plain": [
       "5924.097956213491"
      ]
     },
     "execution_count": 13,
     "metadata": {},
     "output_type": "execute_result"
    }
   ],
   "source": [
    "solve_runge_kutta(\n",
    "    y_prime='y * exp(x) / (1 + exp(x))',\n",
    "    interval='1 10',\n",
    "    h=0.01,\n",
    "    y0=1\n",
    ")"
   ]
  },
  {
   "cell_type": "code",
   "execution_count": null,
   "metadata": {},
   "outputs": [],
   "source": [
    "first_expr, second_expr, third_expr, fourth_expr = input(), input(), float(input()), float(input())\n",
    "solve_runge_kutta(first_expr, second_expr, third_expr, fourth_expr)"
   ]
  }
 ],
 "metadata": {
  "colab": {
   "name": "practical.ipynb",
   "provenance": []
  },
  "kernelspec": {
   "display_name": "Python 3",
   "language": "python",
   "name": "python3"
  },
  "language_info": {
   "codemirror_mode": {
    "name": "ipython",
    "version": 3
   },
   "file_extension": ".py",
   "mimetype": "text/x-python",
   "name": "python",
   "nbconvert_exporter": "python",
   "pygments_lexer": "ipython3",
   "version": "3.8.8"
  }
 },
 "nbformat": 4,
 "nbformat_minor": 1
}